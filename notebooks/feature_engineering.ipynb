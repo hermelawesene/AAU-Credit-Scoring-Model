{
 "cells": [
  {
   "cell_type": "code",
   "execution_count": 16,
   "metadata": {},
   "outputs": [],
   "source": [
    "import pandas as pd\n",
    "import numpy as np\n",
    "import sys\n",
    "import os\n",
    "sys.path.append(os.path.join(os.path.abspath('..')))\n",
    "from scipy import stats"
   ]
  },
  {
   "cell_type": "code",
   "execution_count": 17,
   "metadata": {},
   "outputs": [],
   "source": [
    "training_data = pd.read_csv(\"../data/training_cleaned_outlier.csv\")\n",
    "test_data = pd.read_csv(\"../data/test_cleaned.csv\")"
   ]
  },
  {
   "cell_type": "markdown",
   "metadata": {},
   "source": [
    "handle skewness"
   ]
  },
  {
   "cell_type": "markdown",
   "metadata": {},
   "source": [
    "what we found from the skewness result in the eda.ipynb file\n",
    "| Feature                                | Skewness | Description                 |\n",
    "|----------------------------------------|----------|-----------------------------|\n",
    "| MonthlyIncome                          | 127.12   | Highly skewed, positive skew |\n",
    "| RevolvingUtilizationOfUnsecuredLines   | 97.63    | Highly skewed, positive skew |\n",
    "| DebtRatio                              | 95.16    | Highly skewed, positive skew |\n",
    "| NumberOfTime60-89DaysPastDueNotWorse   | 23.33    | Moderately skewed           |\n",
    "| NumberOfTimes90DaysLate                | 23.09    | Moderately skewed           |\n",
    "| NumberOfTime30-59DaysPastDueNotWorse   | 22.60    | Moderately skewed           |\n",
    "| NumberRealEstateLoansOrLines           | 3.48     | Mildly skewed               |\n",
    "| NumberOfDependents                     | 1.63     | Mildly skewed               |\n",
    "| NumberOfOpenCreditLinesAndLoans        | 1.22     | Mildly skewed               |\n",
    "| Age                                    | 0.19     | Very low skew, close to normal |"
   ]
  },
  {
   "cell_type": "markdown",
   "metadata": {},
   "source": [
    "Highly Skewed Features"
   ]
  },
  {
   "cell_type": "code",
   "execution_count": 18,
   "metadata": {},
   "outputs": [],
   "source": [
    "training_data['MonthlyIncome'] = np.log1p(training_data['MonthlyIncome'])\n",
    "training_data['RevolvingUtilizationOfUnsecuredLines'], _ = stats.boxcox(training_data['RevolvingUtilizationOfUnsecuredLines'] + 1)\n",
    "training_data['DebtRatio'] = np.log1p(training_data['DebtRatio'])"
   ]
  },
  {
   "cell_type": "markdown",
   "metadata": {},
   "source": [
    "Moderately Skewed Features"
   ]
  },
  {
   "cell_type": "code",
   "execution_count": 19,
   "metadata": {},
   "outputs": [],
   "source": [
    "training_data['NumberOfTime60-89DaysPastDueNotWorse'] = np.sqrt(training_data['NumberOfTime60-89DaysPastDueNotWorse'])\n",
    "training_data['NumberOfTimes90DaysLate'] = np.sqrt(training_data['NumberOfTimes90DaysLate'])\n",
    "training_data['NumberOfTime30-59DaysPastDueNotWorse'] = np.sqrt(training_data['NumberOfTime30-59DaysPastDueNotWorse'])\n"
   ]
  },
  {
   "cell_type": "markdown",
   "metadata": {},
   "source": [
    "Mildly Skewed or Near Normal (No transformation needed)"
   ]
  },
  {
   "cell_type": "markdown",
   "metadata": {},
   "source": [
    "Since our dataset doesn’t have categorical variables, we skip the Encoding Categorical Variables "
   ]
  },
  {
   "cell_type": "code",
   "execution_count": 20,
   "metadata": {},
   "outputs": [],
   "source": [
    "training_data.to_csv('../data/train_cleaned_all.csv', index=False)"
   ]
  },
  {
   "cell_type": "markdown",
   "metadata": {},
   "source": [
    "For our linear regression model we need feature scaling there fore we used standard scaler here. But the random forest and  Gradient Boosting don’t require feature scaling."
   ]
  },
  {
   "cell_type": "code",
   "execution_count": 21,
   "metadata": {},
   "outputs": [
    {
     "name": "stdout",
     "output_type": "stream",
     "text": [
      "   MonthlyIncome  RevolvingUtilizationOfUnsecuredLines  DebtRatio  \\\n",
      "0      -0.479805                              1.496532  -0.536033   \n",
      "1      -0.347073                              1.162137  -0.548865   \n",
      "2      -0.278247                              0.127211  -0.566684   \n",
      "3      -0.228500                              0.043888  -0.457507   \n",
      "4       0.138145                              0.384185   2.751130   \n",
      "\n",
      "   NumberOfTime60-89DaysPastDueNotWorse  NumberOfTimes90DaysLate  \\\n",
      "0                              -0.22098                -0.228806   \n",
      "1                              -0.22098                 3.179545   \n",
      "2                              -0.22098                -0.228806   \n",
      "3                              -0.22098                -0.228806   \n",
      "4                              -0.22098                -0.228806   \n",
      "\n",
      "   NumberOfTime30-59DaysPastDueNotWorse  NumberRealEstateLoansOrLines  \\\n",
      "0                             -0.412190                     -1.016573   \n",
      "1                              1.787184                     -1.016573   \n",
      "2                             -0.412190                     -1.016573   \n",
      "3                             -0.412190                      0.055106   \n",
      "4                             -0.412190                      2.198462   \n",
      "\n",
      "   NumberOfDependents  NumberOfOpenCreditLinesAndLoans       age  \n",
      "0            0.283399                        -0.901912 -0.826748  \n",
      "1           -0.678826                        -1.337011 -0.961532  \n",
      "2           -0.678826                        -0.684362 -1.500670  \n",
      "3            0.283399                        -1.119462  1.464589  \n",
      "4           -0.678826                        -0.031713  0.318921  \n"
     ]
    }
   ],
   "source": [
    "from sklearn.preprocessing import StandardScaler\n",
    "\n",
    "# Initialize StandardScaler\n",
    "scaler = StandardScaler()\n",
    "\n",
    "\n",
    "numerical_columns = ['MonthlyIncome', 'RevolvingUtilizationOfUnsecuredLines', 'DebtRatio', \n",
    "                     'NumberOfTime60-89DaysPastDueNotWorse', 'NumberOfTimes90DaysLate', \n",
    "                     'NumberOfTime30-59DaysPastDueNotWorse', 'NumberRealEstateLoansOrLines', \n",
    "                     'NumberOfDependents', 'NumberOfOpenCreditLinesAndLoans', 'age']\n",
    "\n",
    "# Scale the features\n",
    "training_data[numerical_columns] = scaler.fit_transform(training_data[numerical_columns])\n",
    "\n",
    "# Check the new scaled values\n",
    "print(training_data[numerical_columns].head())"
   ]
  },
  {
   "cell_type": "code",
   "execution_count": 22,
   "metadata": {},
   "outputs": [],
   "source": [
    "# Scale the features for test datr\n",
    "test_data[numerical_columns] = scaler.fit_transform(test_data[numerical_columns])"
   ]
  },
  {
   "cell_type": "code",
   "execution_count": 24,
   "metadata": {},
   "outputs": [],
   "source": [
    "# Save the cleaned datasets\n",
    "training_data.to_csv('../data/train_scaled.csv', index=False)\n",
    "test_data.to_csv('../data/tetst_scaled.csv', index=False)"
   ]
  }
 ],
 "metadata": {
  "kernelspec": {
   "display_name": ".venv",
   "language": "python",
   "name": "python3"
  },
  "language_info": {
   "codemirror_mode": {
    "name": "ipython",
    "version": 3
   },
   "file_extension": ".py",
   "mimetype": "text/x-python",
   "name": "python",
   "nbconvert_exporter": "python",
   "pygments_lexer": "ipython3",
   "version": "3.12.5"
  }
 },
 "nbformat": 4,
 "nbformat_minor": 2
}
